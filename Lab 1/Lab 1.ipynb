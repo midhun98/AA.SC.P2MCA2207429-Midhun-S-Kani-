{
 "cells": [
  {
   "cell_type": "markdown",
   "metadata": {},
   "source": [
    "1. Assign the above text to a variable sentence variable the value and print"
   ]
  },
  {
   "cell_type": "code",
   "execution_count": 1,
   "metadata": {},
   "outputs": [],
   "source": [
    "sentence = \"\"\"Natural language processing makes it possible for computers\n",
    "to understand the human language. In natural language\n",
    "processing, human language is separated into fragments so that\n",
    "the grammatical structure of sentences and the meaning of words\n",
    "can be analysed and understood in context. This helps computers\n",
    "read and understand spoken or written text in the same way as\n",
    "humans. I am studying Natural Language Processing at Amrita\n",
    "University.\"\"\""
   ]
  },
  {
   "cell_type": "markdown",
   "metadata": {},
   "source": [
    "2. Check whether the word ‘language’ belongs to that text."
   ]
  },
  {
   "cell_type": "code",
   "execution_count": 3,
   "metadata": {},
   "outputs": [
    {
     "data": {
      "text/plain": [
       "True"
      ]
     },
     "execution_count": 3,
     "metadata": {},
     "output_type": "execute_result"
    }
   ],
   "source": [
    "\"language\" in sentence"
   ]
  },
  {
   "cell_type": "markdown",
   "metadata": {},
   "source": [
    "3. Find out the index value of the word ‘human’."
   ]
  },
  {
   "cell_type": "code",
   "execution_count": 4,
   "metadata": {},
   "outputs": [
    {
     "data": {
      "text/plain": [
       "78"
      ]
     },
     "execution_count": 4,
     "metadata": {},
     "output_type": "execute_result"
    }
   ],
   "source": [
    "sentence.index('human')"
   ]
  },
  {
   "cell_type": "markdown",
   "metadata": {},
   "source": [
    "4. Find out the position of the word ‘possible’"
   ]
  },
  {
   "cell_type": "code",
   "execution_count": 6,
   "metadata": {},
   "outputs": [
    {
     "data": {
      "text/plain": [
       "37"
      ]
     },
     "execution_count": 6,
     "metadata": {},
     "output_type": "execute_result"
    }
   ],
   "source": [
    "sentence.find(\"possible\")"
   ]
  },
  {
   "cell_type": "markdown",
   "metadata": {},
   "source": [
    "5. Print the third word of the given text."
   ]
  },
  {
   "cell_type": "code",
   "execution_count": 10,
   "metadata": {},
   "outputs": [
    {
     "data": {
      "text/plain": [
       "'processing'"
      ]
     },
     "execution_count": 10,
     "metadata": {},
     "output_type": "execute_result"
    }
   ],
   "source": [
    "sentence.split()[2]"
   ]
  },
  {
   "cell_type": "markdown",
   "metadata": {},
   "source": [
    "6. Find how many\n",
    "a) lines/sentences are there\n",
    "b) words are there\n",
    "c) characters are there (space character excluded)"
   ]
  },
  {
   "cell_type": "code",
   "execution_count": 16,
   "metadata": {},
   "outputs": [
    {
     "name": "stdout",
     "output_type": "stream",
     "text": [
      "7\n",
      "67\n"
     ]
    }
   ],
   "source": [
    "print(sentence.count('\\n'))\n",
    "print(len(sentence.split()))"
   ]
  },
  {
   "cell_type": "code",
   "execution_count": 20,
   "metadata": {},
   "outputs": [
    {
     "name": "stdout",
     "output_type": "stream",
     "text": [
      "372\n"
     ]
    }
   ],
   "source": [
    "words = sentence.split()\n",
    "count = 0\n",
    "for i in words:\n",
    "    count += len(i)\n",
    "print(count)"
   ]
  },
  {
   "cell_type": "markdown",
   "metadata": {},
   "source": [
    "7. Create a vocabulary (list of unique words) from the text."
   ]
  },
  {
   "cell_type": "code",
   "execution_count": 25,
   "metadata": {},
   "outputs": [
    {
     "data": {
      "text/plain": [
       "54"
      ]
     },
     "execution_count": 25,
     "metadata": {},
     "output_type": "execute_result"
    }
   ],
   "source": [
    "unique = list(set(words))\n",
    "len(unique)"
   ]
  },
  {
   "cell_type": "markdown",
   "metadata": {},
   "source": [
    "8. List the words in the vocabulary along with their frequency (count)."
   ]
  },
  {
   "cell_type": "code",
   "execution_count": 27,
   "metadata": {},
   "outputs": [],
   "source": [
    "from collections import Counter"
   ]
  },
  {
   "cell_type": "code",
   "execution_count": 30,
   "metadata": {},
   "outputs": [
    {
     "data": {
      "text/plain": [
       "Counter({'Natural': 2,\n",
       "         'language': 3,\n",
       "         'processing': 1,\n",
       "         'makes': 1,\n",
       "         'it': 1,\n",
       "         'possible': 1,\n",
       "         'for': 1,\n",
       "         'computers': 2,\n",
       "         'to': 1,\n",
       "         'understand': 2,\n",
       "         'the': 4,\n",
       "         'human': 2,\n",
       "         'language.': 1,\n",
       "         'In': 1,\n",
       "         'natural': 1,\n",
       "         'processing,': 1,\n",
       "         'is': 1,\n",
       "         'separated': 1,\n",
       "         'into': 1,\n",
       "         'fragments': 1,\n",
       "         'so': 1,\n",
       "         'that': 1,\n",
       "         'grammatical': 1,\n",
       "         'structure': 1,\n",
       "         'of': 2,\n",
       "         'sentences': 1,\n",
       "         'and': 3,\n",
       "         'meaning': 1,\n",
       "         'words': 1,\n",
       "         'can': 1,\n",
       "         'be': 1,\n",
       "         'analysed': 1,\n",
       "         'understood': 1,\n",
       "         'in': 2,\n",
       "         'context.': 1,\n",
       "         'This': 1,\n",
       "         'helps': 1,\n",
       "         'read': 1,\n",
       "         'spoken': 1,\n",
       "         'or': 1,\n",
       "         'written': 1,\n",
       "         'text': 1,\n",
       "         'same': 1,\n",
       "         'way': 1,\n",
       "         'as': 1,\n",
       "         'humans.': 1,\n",
       "         'I': 1,\n",
       "         'am': 1,\n",
       "         'studying': 1,\n",
       "         'Language': 1,\n",
       "         'Processing': 1,\n",
       "         'at': 1,\n",
       "         'Amrita': 1,\n",
       "         'University.': 1})"
      ]
     },
     "execution_count": 30,
     "metadata": {},
     "output_type": "execute_result"
    }
   ],
   "source": [
    "words = sentence.split()\n",
    "Counter(words)"
   ]
  },
  {
   "cell_type": "code",
   "execution_count": null,
   "metadata": {},
   "outputs": [],
   "source": []
  }
 ],
 "metadata": {
  "kernelspec": {
   "display_name": "Python 3",
   "language": "python",
   "name": "python3"
  },
  "language_info": {
   "codemirror_mode": {
    "name": "ipython",
    "version": 3
   },
   "file_extension": ".py",
   "mimetype": "text/x-python",
   "name": "python",
   "nbconvert_exporter": "python",
   "pygments_lexer": "ipython3",
   "version": "3.7.6"
  }
 },
 "nbformat": 4,
 "nbformat_minor": 4
}

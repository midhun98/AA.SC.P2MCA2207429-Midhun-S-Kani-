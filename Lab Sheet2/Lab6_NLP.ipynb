{
 "cells": [
  {
   "cell_type": "code",
   "execution_count": 10,
   "metadata": {},
   "outputs": [
    {
     "name": "stderr",
     "output_type": "stream",
     "text": [
      "[nltk_data] Downloading package stopwords to\n",
      "[nltk_data]     C:\\Users\\loviy\\AppData\\Roaming\\nltk_data...\n",
      "[nltk_data]   Package stopwords is already up-to-date!\n",
      "[nltk_data] Downloading package punkt to\n",
      "[nltk_data]     C:\\Users\\loviy\\AppData\\Roaming\\nltk_data...\n",
      "[nltk_data]   Package punkt is already up-to-date!\n"
     ]
    }
   ],
   "source": [
    "import re\n",
    "import nltk\n",
    "from nltk.corpus import stopwords\n",
    "from nltk.stem.porter import PorterStemmer\n",
    "import numpy as np\n",
    "import pandas as pd\n",
    "\n",
    "nltk.download('stopwords')\n",
    "nltk.download('punkt')\n",
    "\n",
    "# Read the file and store the text in a variable\n",
    "with open('LabE6.txt', 'r') as file:\n",
    "    text = file.read()\n"
   ]
  },
  {
   "cell_type": "markdown",
   "metadata": {},
   "source": [
    "a. Apply preprocessing."
   ]
  },
  {
   "cell_type": "code",
   "execution_count": 6,
   "metadata": {},
   "outputs": [],
   "source": [
    "# Convert all text to lowercase\n",
    "text = text.lower()\n",
    "\n",
    "# Remove all punctuation marks, digits and other special characters\n",
    "text = re.sub('[^a-zA-Z]', ' ', text)\n",
    "\n",
    "# Tokenize the text into words\n",
    "words = nltk.word_tokenize(text)\n",
    "\n",
    "# Remove stop words\n",
    "stop_words = set(stopwords.words('english'))\n",
    "words = [word for word in words if not word in stop_words]\n",
    "\n",
    "# Stem the remaining words\n",
    "stemmer = PorterStemmer()\n",
    "words = [stemmer.stem(word) for word in words]\n",
    "\n",
    "# Join the stemmed words back into a single string\n",
    "processed_text = ' '.join(words)"
   ]
  },
  {
   "cell_type": "markdown",
   "metadata": {},
   "source": [
    "b. Create one-hot encoded vectors for the each tokens in the vocabulary"
   ]
  },
  {
   "cell_type": "code",
   "execution_count": 4,
   "metadata": {},
   "outputs": [],
   "source": [
    "# Create a set of all unique words in the preprocessed text\n",
    "vocab = set(words)\n",
    "\n",
    "# Assign a unique index to each word in the vocabulary\n",
    "word_to_idx = {word: i for i, word in enumerate(vocab)}\n",
    "\n",
    "# Create a one-hot encoded vector for each word in the text\n",
    "one_hot_vectors = []\n",
    "for word in words:\n",
    "    vector = [0] * len(vocab)\n",
    "    vector[word_to_idx[word]] = 1\n",
    "    one_hot_vectors.append(vector)\n"
   ]
  },
  {
   "cell_type": "markdown",
   "metadata": {},
   "source": [
    "Apply newline tokenization to the text (use split(“\\n”). Consider each element in the list as a document.\n",
    "a. Apply preprocessing."
   ]
  },
  {
   "cell_type": "code",
   "execution_count": 7,
   "metadata": {},
   "outputs": [],
   "source": [
    "# Read the file and split the text into documents\n",
    "with open('LabE6.txt', 'r') as file:\n",
    "    text = file.read()\n",
    "    documents = text.split('\\n')\n",
    "\n",
    "# Preprocess each document in the list of documents\n",
    "processed_documents = []\n",
    "for doc in documents:\n",
    "    # Convert all text to lowercase\n",
    "    doc = doc.lower()\n",
    "\n",
    "    # Remove all punctuation marks, digits and other special characters\n",
    "    doc = re.sub('[^a-zA-Z]', ' ', doc)\n",
    "\n",
    "    # Tokenize the text into words\n",
    "    words = nltk.word_tokenize(doc)\n",
    "\n",
    "    # Remove stop words\n",
    "    stop_words = set(stopwords.words('english'))\n",
    "    words = [word for word in words if not word in stop_words]\n",
    "\n",
    "    # Stem the remaining words\n",
    "    stemmer = PorterStemmer()\n",
    "    words = [stemmer.stem(word) for word in words]\n",
    "\n",
    "    # Join the stemmed words back into a single string\n",
    "    processed_doc = ' '.join(words)\n",
    "\n",
    "    # Append the processed document to the list of processed documents\n",
    "    processed_documents.append(processed_doc)\n",
    "\n",
    "    \n"
   ]
  },
  {
   "cell_type": "markdown",
   "metadata": {},
   "source": [
    "b. Create BoWs vectors for each of the documents"
   ]
  },
  {
   "cell_type": "code",
   "execution_count": 8,
   "metadata": {},
   "outputs": [],
   "source": [
    "# Create a set of all unique words in the preprocessed text\n",
    "vocab = set()\n",
    "for doc in processed_documents:\n",
    "    vocab.update(doc.split())\n",
    "\n",
    "# Assign a unique index to each word in the vocabulary\n",
    "word_to_idx = {word: i for i, word in enumerate(vocab)}\n",
    "\n",
    "# Create a BoW vector for each document\n",
    "bow_vectors = []\n",
    "for doc in processed_documents:\n",
    "    vector = [0] * len(vocab)\n",
    "    for word in doc.split():\n",
    "        vector[word_to_idx[word]] += 1\n",
    "    bow_vectors.append(vector)\n"
   ]
  },
  {
   "cell_type": "markdown",
   "metadata": {},
   "source": [
    "Read a search text from the user\n",
    "a. Using cosine similarity : List the top five similar documents based on the \n",
    "search text"
   ]
  },
  {
   "cell_type": "code",
   "execution_count": 11,
   "metadata": {},
   "outputs": [
    {
     "name": "stdout",
     "output_type": "stream",
     "text": [
      "Enter search text: hello\n",
      "Top five similar documents:\n",
      "Document 215 - Similarity: 0.0535\n",
      "holy Sh*t this was god awful. i sat in the theater for for an hour and ten minutes and i thought i was going to gouge out my eyes much in the manor Oedipus Rex. dear god. this movie deserves no more credit than anything done by a middle school film buff. please save your money, this movie can offer you nothing. unless you enjoy sideshows and sleeping in movie theaters. you know, h3ll, bring your girlfriend and make things interesting. you will be the only ones there anyway. F@ck this slide show. <br /><br />Ye Be Warned.<br /><br />I recommend not watching this.<br /><br />hello.<br /><br />how are you?<br /><br />I'm pretty good.<br /><br />enjoying this day?<br /><br />I am.<br /><br />this comment was one-hundred times more fun than pretending to watch this daym movie. this is sad.\n",
      "\n",
      "Document 18 - Similarity: 0.0442\n",
      "This movie made it into one of my top 10 most awful movies. Horrible. <br /><br />There wasn't a continuous minute where there wasn't a fight with one monster or another. There was no chance for any character development, they were too busy running from one sword fight to another. I had no emotional attachment (except to the big bad machine that wanted to destroy them) <br /><br />Scenes were blatantly stolen from other movies, LOTR, Star Wars and Matrix. <br /><br />Examples<br /><br />>The ghost scene at the end was stolen from the final scene of the old Star Wars with Yoda, Obee One and Vader. <br /><br />>The spider machine in the beginning was exactly like Frodo being attacked by the spider in Return of the Kings. (Elijah Wood is the victim in both films) and wait......it hypnotizes (stings) its victim and wraps them up.....uh hello????<br /><br />>And the whole machine vs. humans theme WAS the Matrix..or Terminator.....<br /><br />There are more examples but why waste the time? And will someone tell me what was with the Nazi's?!?! Nazi's???? <br /><br />There was a juvenile story line rushed to a juvenile conclusion. The movie could not decide if it was a children's movie or an adult movie and wasn't much of either. <br /><br />Just awful. A real disappointment to say the least. Save your money.\n",
      "\n",
      "Document 34 - Similarity: 0.0336\n",
      "One of the most significant quotes from the entire film is pronounced halfway through by the protagonist, the mafia middle-man Titta Di Girolamo, a physically non-descript, middle-aged man originally from Salerno in Southern Italy. When we're introduced to him at the start of the film, he's been living a non-life in an elegant but sterile hotel in the Italian-speaking Canton of Switzerland for the last ten years, conducting a business we are only gradually introduced to. While this pivotal yet apparently unremarkable scene takes place employees of the the Swiss bank who normally count Di Girolamo's cash tell him that 10,000 dollars are missing from his usual suitcase full of tightly stacked banknotes. At the news, he quietly but icily threatens his coaxing bank manager of wanting to close down his account. Meanwhile he tells us, the spectators, that when you bluff, you have to bluff right through to the end without fear of being caught out or appearing ridiculous. He says: you can't bluff for a while and then halfway through, tell the truth. Having eventually done this - bluffed only halfway through and told the truth, and having accepted the consequences of life and ultimately, love - is exactly the reason behind the beginning of Titta Di Girolamo's troubles. <br /><br />This initially unsympathetic character, a scowling, taciturn, curt man on the verge of 50, a man who won't even reply in kind to chambermaids and waitresses who say hello and goodbye, becomes at one point someone the spectator cares deeply about. At one point in his non-life, Titta decides to feel concern about appearing \"ridiculous\". The first half of the film may be described as \"slow\" by some. It does indeed reveal Di Girolamo's days and nights in that hotel at an oddly disjoined, deliberate pace, revealing seemingly mundane and irrelevant details. However, scenes that may have seemed unnecessary reveal just how essential they are as this masterfully constructed and innovative film unfolds before your eyes. The existence of Titta Di Girolamo - the man with no imagination, identity or life, the unsympathetic character you unexpectedly end up loving and feeling for when you least thought you would - is also conveyed with elegantly edited sequences and very interesting use of music (one theme by the Scottish band Boards of Canada especially stood out). <br /><br />Never was the contrast between the way Hollywood and Italy treat mobsters more at odds than since the release of films such as Le Conseguenze dell'Amore or L'Imbalsamatore. Another interesting element was the way in which the film made use of the protagonist's insomnia. Not unlike The Machinist (and in a far more explicit way, the Al Pacino film Insomnia), Le Conseguenze dell'Amore uses this condition to symbolise a deeper emotional malaise that's been rammed so deep into the obscurity of the unconscious, it's almost impossible to pin-point its cause (if indeed there is one). <br /><br />The young and sympathetic hotel waitress Sofia (played by Olivia Magnani, grand-daughter of the legendary Anna) and the memory of Titta's best friend, a man whom he hasn't seen in 20 years, unexpectedly provide a tiny window onto life that Titta eventually (though tentatively at first) accepts to look through again. Though it's never explicitly spelt out, the spectator KNOWS that to a man like Titta, accepting The Consequences of Love will have unimaginable consequences. A film without a single scene of sex or violence, a film that unfolds in its own time and concedes nothing to the spectator's expectations, Le Conseguenze dell'Amore is a fine representative of that small, quiet, discreet Renaissance that has been taking place in Italian cinema since the decline of CinecittÃƒÂ  during the second half of the 70s. The world is waiting for Italy to produce more Il Postino-like fare, more La Vita ÃƒÂ¨ Bella-style films... neglecting to explore fine creations like Le Conseguenze dell'Amore, L'Imbalsamatore and others. Your loss, world.\n",
      "\n",
      "Document 650 - Similarity: 0.0318\n",
      "1983's \"Frightmare\" is an odd little film. The director seems to be trying to combine the atmosphere of classic '30s/'40s style horror movies with the shock factor of the then-exploding '80s slasher genre. It isn't totally successful (mostly due to very obvious budgetary restraints, and the less-than-professional caliber of its cast of young actors) but it still has its moments, mostly due to the classy performance (classier than the movie deserves) by the late German actor Ferdinand Mayne, who plays an aging old time horror movie star (ala Vincent Price) named \"Conrad Ratzoff.\" At the beginning of the movie we meet the has-been horror star as he's shooting a commercial for dentures and we quickly learn that ol' Conrad is a bit of a hoity-toity, prima donna jerk-off. Just when you think he couldn't be any more un-likable, the commercial director berates Conrad for blowing a take for the umpteenth time and the old goat pushes him off a balcony to his death. Nice, huh? Conrad then visits some fans at a college campus horror movie club, unfortunately he suffers a heart attack in the middle of his speech to them and eventually ends up back at his mansion waiting to die. Still feisty even at Death's door, he manages to do away with a despised business associate by smothering him with a pillow before he finally kicks the bucket himself. Conrad is then laid to rest in true Hollywood style in a high tech neon tomb with video screens above the casket, which will play personal video messages from Conrad himself for visitors who enter to pay their respects.<br /><br />It is at this point that the kids from the college Horror Movie Society decide to pay Conrad's grave an after hours visit, breaking into the tomb and taking his body back home with them for an all night party. (Not exactly my idea of fun, but hey, these are characters in an '80s horror film. Logic has no place here.) The college kids spend the evening having dinner with Conrad's body seated in a place of honor, posing for photos with it and even dancing around the room with it, before parking Conrad and his coffin in the attic, planning to return him to his crypt in the morning. In the meantime, Mrs. Ratzoff, distraught over the theft of her husband's body, has called in a psychic friend to try and \"reach\" Conrad through a seance. You can pretty much figure out the rest from here. Since Conrad wasn't a very nice guy in life, it's not much of a stretch to assume that he won't be any friendlier in death. Psychic Lady makes contact with Conrad and he re-awakens in predictably ticked off fashion, then spends the rest of the movie strolling around the corridors of the students' ridiculously huge house, picking off the young grave robbers one by one. This is where the movie falls apart. Endless scenes of teens wandering around empty hallways saying \"Hello? Is anyone there?\" are intercut with occasional bursts of violence (we do get a pretty gnarly decapitation scene, which is the highlight of the movie) before the last two survivors finally figure out (WAY later than any semi-intelligent people would have figured out the same thing...but again, we're in an '80s horror film!) that the only way to stop the mayhem is to get Conrad's body back to its crypt where it belongs. The sluggish pacing is padded out with a lot of weird lighting and dry ice fog effects backed by a soundtrack made up almost entirely of sound effects rather than music(thunder, moans and groans, howls, etc.) that becomes severely annoying after a while.<br /><br />I can't really recommend \"Frightmare\" to anyone who didn't grow up watching cheap movies like this on late night cable back in the '80s. \"Modern Horror\" fans will doubtlessly find \"Frightmare\" incredibly slow moving and goofy. If you came of age in that magical decade, however, you may get a blast of nostalgia from \"Frightmare.\" Fans of Jeffrey (\"Re-Animator\") Combs may also want to check it out, as the future Dr. West appears in an early role here as one of the unlucky film students.<br /><br />I will advise the reader to avoid the version of this film on the EastWestDVD label (paired with Roy Ward's \"Vault of Horror\" and sold at dollar stores) because the print quality is terrible. I'm told the film has gotten a deluxe release via the fine folks at Troma, which seems appropriate. If you're a Troma kind of person then \"Frightmare\" will be right up your alley.\n",
      "\n",
      "Document 1 - Similarity: 0.0000\n",
      "One of the other reviewers has mentioned that after watching just 1 Oz episode you'll be hooked. They are right, as this is exactly what happened with me.<br /><br />The first thing that struck me about Oz was its brutality and unflinching scenes of violence, which set in right from the word GO. Trust me, this is not a show for the faint hearted or timid. This show pulls no punches with regards to drugs, sex or violence. Its is hardcore, in the classic use of the word.<br /><br />It is called OZ as that is the nickname given to the Oswald Maximum Security State Penitentary. It focuses mainly on Emerald City, an experimental section of the prison where all the cells have glass fronts and face inwards, so privacy is not high on the agenda. Em City is home to many..Aryans, Muslims, gangstas, Latinos, Christians, Italians, Irish and more....so scuffles, death stares, dodgy dealings and shady agreements are never far away.<br /><br />I would say the main appeal of the show is due to the fact that it goes where other shows wouldn't dare. Forget pretty pictures painted for mainstream audiences, forget charm, forget romance...OZ doesn't mess around. The first episode I ever saw struck me as so nasty it was surreal, I couldn't say I was ready for it, but as I watched more, I developed a taste for Oz, and got accustomed to the high levels of graphic violence. Not just violence, but injustice (crooked guards who'll be sold out for a nickel, inmates who'll kill on order and get away with it, well mannered, middle class inmates being turned into prison bitches due to their lack of street skills or prison experience) Watching Oz, you may become comfortable with what is uncomfortable viewing....thats if you can get in touch with your darker side.\n",
      "\n"
     ]
    },
    {
     "name": "stderr",
     "output_type": "stream",
     "text": [
      "C:\\Users\\loviy\\AppData\\Local\\Temp\\ipykernel_22660\\2579280440.py:33: RuntimeWarning: invalid value encountered in true_divide\n",
      "  sim = np.dot(search_vector, doc_vector) / (np.linalg.norm(search_vector) * np.linalg.norm(doc_vector))\n"
     ]
    }
   ],
   "source": [
    "# Create a set of all unique words in the preprocessed text\n",
    "vocab = set()\n",
    "for doc in processed_documents:\n",
    "    vocab.update(doc.split())\n",
    "\n",
    "# Assign a unique index to each word in the vocabulary\n",
    "word_to_idx = {word: i for i, word in enumerate(vocab)}\n",
    "\n",
    "# Create a BoW vector for each document\n",
    "bow_vectors = []\n",
    "for doc in processed_documents:\n",
    "    vector = [0] * len(vocab)\n",
    "    for word in doc.split():\n",
    "        vector[word_to_idx[word]] += 1\n",
    "    bow_vectors.append(vector)\n",
    "\n",
    "search_text = input(\"Enter search text: \").lower()\n",
    "search_words = nltk.word_tokenize(search_text)\n",
    "search_words = [word for word in search_words if not word in stop_words]\n",
    "search_words = [stemmer.stem(word) for word in search_words]\n",
    "search_text = ' '.join(search_words)\n",
    "\n",
    "search_vector = [0] * len(vocab)\n",
    "for word in search_text.split():\n",
    "    if word in word_to_idx:\n",
    "        search_vector[word_to_idx[word]] += 1\n",
    "\n",
    "similarities = []\n",
    "for i, doc_vector in enumerate(bow_vectors):\n",
    "    sim = np.dot(search_vector, doc_vector) / (np.linalg.norm(search_vector) * np.linalg.norm(doc_vector))\n",
    "    similarities.append((i, sim))\n",
    "\n",
    "similarities.sort(key=lambda x: x[1], reverse=True)\n",
    "\n",
    "print(\"Top five similar documents:\")\n",
    "for i in range(5):\n",
    "    doc_idx = similarities[i][0]\n",
    "    doc_sim = similarities[i][1]\n",
    "    print(f\"Document {doc_idx+1} - Similarity: {doc_sim:.4f}\")\n",
    "    print(documents[doc_idx])\n",
    "    print()    \n"
   ]
  },
  {
   "cell_type": "code",
   "execution_count": null,
   "metadata": {},
   "outputs": [],
   "source": []
  }
 ],
 "metadata": {
  "kernelspec": {
   "display_name": "Python 3",
   "language": "python",
   "name": "python3"
  },
  "language_info": {
   "codemirror_mode": {
    "name": "ipython",
    "version": 3
   },
   "file_extension": ".py",
   "mimetype": "text/x-python",
   "name": "python",
   "nbconvert_exporter": "python",
   "pygments_lexer": "ipython3",
   "version": "3.7.6"
  }
 },
 "nbformat": 4,
 "nbformat_minor": 5
}
